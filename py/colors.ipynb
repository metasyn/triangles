{
 "cells": [
  {
   "cell_type": "code",
   "execution_count": 1,
   "metadata": {
    "collapsed": true
   },
   "outputs": [],
   "source": [
    "import seaborn as sns\n",
    "import matplotlib.pyplot as plt\n",
    "\n",
    "% matplotlib inline"
   ]
  },
  {
   "cell_type": "code",
   "execution_count": 2,
   "metadata": {
    "collapsed": false
   },
   "outputs": [
    {
     "data": {
      "text/plain": [
       "[[0.9677975592919913, 0.44127456009157356, 0.5358103155058701],\n",
       " [0.7350228985632719, 0.5952719904750953, 0.1944419133847522],\n",
       " [0.3126890019504329, 0.6928754610296064, 0.1923704830330379],\n",
       " [0.21044753832183283, 0.6773105080456748, 0.6433941168468681],\n",
       " [0.23299120924703914, 0.639586552066035, 0.9260706093977744],\n",
       " [0.9082572436765556, 0.40195790729656516, 0.9576909250290225]]"
      ]
     },
     "execution_count": 2,
     "metadata": {},
     "output_type": "execute_result"
    }
   ],
   "source": [
    "sns.husl_palette()"
   ]
  },
  {
   "cell_type": "code",
   "execution_count": 9,
   "metadata": {
    "collapsed": false
   },
   "outputs": [],
   "source": [
    "colors = sns.color_palette('Greens', 4)"
   ]
  },
  {
   "cell_type": "code",
   "execution_count": 10,
   "metadata": {
    "collapsed": false
   },
   "outputs": [],
   "source": [
    "rgbs = []\n",
    "for (r,b,g) in colors:\n",
    "    r *= 255\n",
    "    g *= 255\n",
    "    b *= 255\n",
    "    rgbs.append((int(r),int(g),int(b)))\n",
    "hexes = [\"#{0:02x}{1:02x}{2:02x}\".format(r,b,g) for (r,b,g) in rgbs]"
   ]
  },
  {
   "cell_type": "code",
   "execution_count": 18,
   "metadata": {
    "collapsed": false
   },
   "outputs": [
    {
     "data": {
      "text/plain": [
       "['#d3cced', '#9893d4', '#4b62b0', '#153b7f']"
      ]
     },
     "execution_count": 18,
     "metadata": {},
     "output_type": "execute_result"
    }
   ],
   "source": [
    "hexes"
   ]
  },
  {
   "cell_type": "code",
   "execution_count": 19,
   "metadata": {
    "collapsed": false
   },
   "outputs": [
    {
     "data": {
      "image/png": "[encoded data removed]",
      "text/plain": [
       "<matplotlib.figure.Figure at 0x114064c18>"
      ]
     },
     "metadata": {},
     "output_type": "display_data"
    }
   ],
   "source": [
    "sns.palplot(colors)"
   ]
  },
  {
   "cell_type": "code",
   "execution_count": 20,
   "metadata": {
    "collapsed": false
   },
   "outputs": [],
   "source": [
    "percs = []\n",
    "percs = [\"rgb({0:.5%}, {1:.5%}, {2:.5%})\".format(r,g,b) for (r,g,b) in colors]"
   ]
  },
  {
   "cell_type": "code",
   "execution_count": 21,
   "metadata": {
    "collapsed": false
   },
   "outputs": [
    {
     "data": {
      "text/plain": [
       "['rgb(82.74510%, 93.25490%, 80.31373%)',\n",
       " 'rgb(59.60784%, 83.45098%, 57.88235%)',\n",
       " 'rgb(29.49020%, 69.01961%, 38.43137%)',\n",
       " 'rgb(8.23529%, 49.80392%, 23.13726%)']"
      ]
     },
     "execution_count": 21,
     "metadata": {},
     "output_type": "execute_result"
    }
   ],
   "source": [
    "percs"
   ]
  },
  {
   "cell_type": "code",
   "execution_count": null,
   "metadata": {
    "collapsed": true
   },
   "outputs": [],
   "source": []
  }
 ],
 "metadata": {
  "kernelspec": {
   "display_name": "Python 3",
   "language": "python",
   "name": "python3"
  },
  "language_info": {
   "codemirror_mode": {
    "name": "ipython",
    "version": 3
   },
   "file_extension": ".py",
   "mimetype": "text/x-python",
   "name": "python",
   "nbconvert_exporter": "python",
   "pygments_lexer": "ipython3",
   "version": "3.4.3"
  }
 },
 "nbformat": 4,
 "nbformat_minor": 0
}
