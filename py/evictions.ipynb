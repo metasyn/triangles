{
 "cells": [
  {
   "cell_type": "code",
   "execution_count": 1,
   "metadata": {
    "collapsed": true
   },
   "outputs": [],
   "source": [
    "import geopy"
   ]
  },
  {
   "cell_type": "code",
   "execution_count": 2,
   "metadata": {
    "collapsed": true
   },
   "outputs": [],
   "source": [
    "geolocator = geopy.Nominatim()"
   ]
  },
  {
   "cell_type": "code",
   "execution_count": 10,
   "metadata": {
    "collapsed": false
   },
   "outputs": [],
   "source": [
    "location = geolocator.geocode('106 Corbett Avenue, SF')"
   ]
  },
  {
   "cell_type": "code",
   "execution_count": 11,
   "metadata": {
    "collapsed": false
   },
   "outputs": [
    {
     "data": {
      "text/plain": [
       "37.7538681428571"
      ]
     },
     "execution_count": 11,
     "metadata": {},
     "output_type": "execute_result"
    }
   ],
   "source": [
    "location.latitude"
   ]
  },
  {
   "cell_type": "code",
   "execution_count": 242,
   "metadata": {
    "collapsed": true
   },
   "outputs": [],
   "source": [
    "import pandas as pd"
   ]
  },
  {
   "cell_type": "code",
   "execution_count": 243,
   "metadata": {
    "collapsed": false
   },
   "outputs": [
    {
     "name": "stderr",
     "output_type": "stream",
     "text": [
      "/usr/local/lib/python3.4/site-packages/pandas/io/parsers.py:1164: DtypeWarning: Columns (4,24,25,26) have mixed types. Specify dtype option on import or set low_memory=False.\n",
      "  data = self._reader.read(nrows)\n"
     ]
    }
   ],
   "source": [
    "data = pd.read_csv('./Eviction_Notices.csv')"
   ]
  },
  {
   "cell_type": "code",
   "execution_count": 259,
   "metadata": {
    "collapsed": false
   },
   "outputs": [],
   "source": [
    "data['days'] = pd.to_datetime(data['File Date'])"
   ]
  },
  {
   "cell_type": "code",
   "execution_count": 260,
   "metadata": {
    "collapsed": false
   },
   "outputs": [],
   "source": [
    "data['days'] = data.days.map(lambda x: (pd.to_datetime('2015-05-15') - x).days)"
   ]
  },
  {
   "cell_type": "code",
   "execution_count": null,
   "metadata": {
    "collapsed": false
   },
   "outputs": [],
   "source": []
  },
  {
   "cell_type": "code",
   "execution_count": 261,
   "metadata": {
    "collapsed": false
   },
   "outputs": [],
   "source": [
    "def clean(x):\n",
    "    try:\n",
    "        split = x[1:-1].split(',')\n",
    "        return float(split[0])\n",
    "    except Exception:\n",
    "        pass"
   ]
  },
  {
   "cell_type": "code",
   "execution_count": 262,
   "metadata": {
    "collapsed": false
   },
   "outputs": [],
   "source": [
    "data['lat'] = data.Client_Location.map(lambda x: clean(x))"
   ]
  },
  {
   "cell_type": "code",
   "execution_count": 263,
   "metadata": {
    "collapsed": false
   },
   "outputs": [],
   "source": [
    "def clean(x):\n",
    "    try:\n",
    "        split = x[1:-1].split(',')\n",
    "        return float(split[1])\n",
    "    except Exception:\n",
    "        pass"
   ]
  },
  {
   "cell_type": "code",
   "execution_count": 264,
   "metadata": {
    "collapsed": true
   },
   "outputs": [],
   "source": [
    "data['lon'] = data.Client_Location.map(lambda x: clean(x))"
   ]
  },
  {
   "cell_type": "code",
   "execution_count": 265,
   "metadata": {
    "collapsed": false
   },
   "outputs": [],
   "source": [
    "data = data[data.lon < 0]"
   ]
  },
  {
   "cell_type": "code",
   "execution_count": 266,
   "metadata": {
    "collapsed": false
   },
   "outputs": [],
   "source": [
    "data = data[data.lat > 0]"
   ]
  },
  {
   "cell_type": "code",
   "execution_count": 267,
   "metadata": {
    "collapsed": false,
    "scrolled": true
   },
   "outputs": [
    {
     "name": "stdout",
     "output_type": "stream",
     "text": [
      "<class 'pandas.core.frame.DataFrame'>\n",
      "Int64Index: 32623 entries, 0 to 33240\n",
      "Data columns (total 33 columns):\n",
      "Eviction_ID                32623 non-null object\n",
      "Address                    32623 non-null object\n",
      "City                       32622 non-null object\n",
      "State                      32623 non-null object\n",
      "Zip                        31837 non-null object\n",
      "File Date                  32623 non-null object\n",
      "Non Payment                32623 non-null bool\n",
      "Breach                     32623 non-null bool\n",
      "Nuisance                   32623 non-null bool\n",
      "Illegal Use                32623 non-null bool\n",
      "Failure to Sign Renewal    32623 non-null bool\n",
      "Access Denial              32623 non-null bool\n",
      "Unapproved Subtenant       32623 non-null bool\n",
      "Owner Move In              32623 non-null bool\n",
      "Demolition                 32623 non-null bool\n",
      "Capital Improvement        32623 non-null bool\n",
      "Substantial Rehab          32623 non-null bool\n",
      "Ellis Act WithDrawal       32623 non-null bool\n",
      "Condo Conversion           32623 non-null bool\n",
      "Roommate Same Unit         32623 non-null bool\n",
      "Other Cause                32623 non-null bool\n",
      "Late Payments              32623 non-null bool\n",
      "Lead Remediation           32623 non-null bool\n",
      "Development                32623 non-null bool\n",
      "Good Samaritan Ends        1 non-null object\n",
      "Constraints                32623 non-null object\n",
      "Constraints Date           2910 non-null object\n",
      "Supervisor_District        32614 non-null float64\n",
      "Neighborhood               32614 non-null object\n",
      "Client_Location            32623 non-null object\n",
      "lat                        32623 non-null float64\n",
      "lon                        32623 non-null float64\n",
      "days                       32623 non-null int64\n",
      "dtypes: bool(18), float64(3), int64(1), object(11)\n",
      "memory usage: 4.5+ MB\n"
     ]
    }
   ],
   "source": [
    "data.info()"
   ]
  },
  {
   "cell_type": "code",
   "execution_count": 268,
   "metadata": {
    "collapsed": false
   },
   "outputs": [
    {
     "data": {
      "text/plain": [
       "Index(['Eviction_ID', 'Address', 'City', 'State', 'Zip', 'File Date', 'Non Payment', 'Breach', 'Nuisance', 'Illegal Use', 'Failure to Sign Renewal', 'Access Denial', 'Unapproved Subtenant', 'Owner Move In', 'Demolition', 'Capital Improvement', 'Substantial Rehab', 'Ellis Act WithDrawal', 'Condo Conversion', 'Roommate Same Unit', 'Other Cause', 'Late Payments', 'Lead Remediation', 'Development', 'Good Samaritan Ends', 'Constraints', 'Constraints Date', 'Supervisor_District', 'Neighborhood', 'Client_Location', 'lat', 'lon', 'days'], dtype='object')"
      ]
     },
     "execution_count": 268,
     "metadata": {},
     "output_type": "execute_result"
    }
   ],
   "source": [
    "data.columns"
   ]
  },
  {
   "cell_type": "code",
   "execution_count": 269,
   "metadata": {
    "collapsed": true
   },
   "outputs": [],
   "source": [
    "clean = data.copy()"
   ]
  },
  {
   "cell_type": "code",
   "execution_count": 270,
   "metadata": {
    "collapsed": true
   },
   "outputs": [],
   "source": [
    "reasons = ['Non Payment', 'Breach', 'Nuisance', 'Illegal Use', 'Failure to Sign Renewal', 'Access Denial', 'Unapproved Subtenant', 'Owner Move In', 'Demolition', 'Capital Improvement', 'Substantial Rehab', 'Ellis Act WithDrawal', 'Condo Conversion', 'Roommate Same Unit', 'Other Cause', 'Late Payments', 'Lead Remediation', 'Development']"
   ]
  },
  {
   "cell_type": "code",
   "execution_count": 271,
   "metadata": {
    "collapsed": false
   },
   "outputs": [],
   "source": [
    "x = data[reasons].stack()"
   ]
  },
  {
   "cell_type": "code",
   "execution_count": 272,
   "metadata": {
    "collapsed": false
   },
   "outputs": [],
   "source": [
    "data['reason'] = pd.Series(pd.Categorical(x[x!=0].index.get_level_values(1)))"
   ]
  },
  {
   "cell_type": "code",
   "execution_count": 273,
   "metadata": {
    "collapsed": false
   },
   "outputs": [],
   "source": [
    "df = data[['lat', 'lon', 'days', 'reason']]"
   ]
  },
  {
   "cell_type": "code",
   "execution_count": null,
   "metadata": {
    "collapsed": false
   },
   "outputs": [],
   "source": [
    "df.to_json('evictions.json')"
   ]
  },
  {
   "cell_type": "code",
   "execution_count": null,
   "metadata": {
    "collapsed": true
   },
   "outputs": [],
   "source": []
  },
  {
   "cell_type": "code",
   "execution_count": null,
   "metadata": {
    "collapsed": true
   },
   "outputs": [],
   "source": []
  }
 ],
 "metadata": {
  "kernelspec": {
   "display_name": "Python 3",
   "language": "python",
   "name": "python3"
  },
  "language_info": {
   "codemirror_mode": {
    "name": "ipython",
    "version": 3
   },
   "file_extension": ".py",
   "mimetype": "text/x-python",
   "name": "python",
   "nbconvert_exporter": "python",
   "pygments_lexer": "ipython3",
   "version": "3.4.3"
  }
 },
 "nbformat": 4,
 "nbformat_minor": 0
}
